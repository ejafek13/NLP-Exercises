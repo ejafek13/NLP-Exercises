{
 "cells": [
  {
   "cell_type": "markdown",
   "metadata": {},
   "source": [
    "## Step 0: Latent Dirichlet Allocation ##\n",
    "\n",
    "LDA is used to classify text in a document to a particular topic. It builds a topic per document model and words per topic model, modeled as Dirichlet distributions. \n",
    "\n",
    "* Each document is modeled as a multinomial distribution of topics and each topic is modeled as a multinomial distribution of words.\n",
    "* LDA assumes that the every chunk of text we feed into it will contain words that are somehow related. Therefore choosing the right corpus of data is crucial. \n",
    "* It also assumes documents are produced from a mixture of topics. Those topics then generate words based on their probability distribution. "
   ]
  },
  {
   "cell_type": "markdown",
   "metadata": {},
   "source": [
    "## Step 1: Load the dataset\n",
    "\n",
    "The dataset we'll use is a list of over one million news headlines published over a period of 15 years. We'll start by loading it from the `abcnews-date-text.csv` file."
   ]
  },
  {
   "cell_type": "code",
   "execution_count": 1,
   "metadata": {
    "ExecuteTime": {
     "end_time": "2020-05-01T19:37:44.259975Z",
     "start_time": "2020-05-01T19:37:42.619756Z"
    }
   },
   "outputs": [],
   "source": [
    "'''\n",
    "Load the dataset from the CSV and save it to 'data_text'\n",
    "'''\n",
    "import pandas as pd\n",
    "data = pd.read_csv('abcnews-date-text.csv', error_bad_lines=False);\n",
    "# We only need the Headlines text column from the data\n",
    "data_text = data[:300000][['headline_text']];\n",
    "data_text['index'] = data_text.index\n",
    "\n",
    "documents = data_text"
   ]
  },
  {
   "cell_type": "markdown",
   "metadata": {},
   "source": [
    "Let's glance at the dataset:"
   ]
  },
  {
   "cell_type": "code",
   "execution_count": 2,
   "metadata": {
    "ExecuteTime": {
     "end_time": "2020-05-01T19:37:52.691695Z",
     "start_time": "2020-05-01T19:37:52.688143Z"
    }
   },
   "outputs": [
    {
     "name": "stdout",
     "output_type": "stream",
     "text": [
      "300000\n"
     ]
    }
   ],
   "source": [
    "'''\n",
    "Get the total number of documents\n",
    "'''\n",
    "print(len(documents))"
   ]
  },
  {
   "cell_type": "code",
   "execution_count": 3,
   "metadata": {
    "ExecuteTime": {
     "end_time": "2020-05-01T19:37:53.694631Z",
     "start_time": "2020-05-01T19:37:53.682420Z"
    }
   },
   "outputs": [
    {
     "data": {
      "text/html": [
       "<div>\n",
       "<style scoped>\n",
       "    .dataframe tbody tr th:only-of-type {\n",
       "        vertical-align: middle;\n",
       "    }\n",
       "\n",
       "    .dataframe tbody tr th {\n",
       "        vertical-align: top;\n",
       "    }\n",
       "\n",
       "    .dataframe thead th {\n",
       "        text-align: right;\n",
       "    }\n",
       "</style>\n",
       "<table border=\"1\" class=\"dataframe\">\n",
       "  <thead>\n",
       "    <tr style=\"text-align: right;\">\n",
       "      <th></th>\n",
       "      <th>headline_text</th>\n",
       "      <th>index</th>\n",
       "    </tr>\n",
       "  </thead>\n",
       "  <tbody>\n",
       "    <tr>\n",
       "      <th>0</th>\n",
       "      <td>aba decides against community broadcasting lic...</td>\n",
       "      <td>0</td>\n",
       "    </tr>\n",
       "    <tr>\n",
       "      <th>1</th>\n",
       "      <td>act fire witnesses must be aware of defamation</td>\n",
       "      <td>1</td>\n",
       "    </tr>\n",
       "    <tr>\n",
       "      <th>2</th>\n",
       "      <td>a g calls for infrastructure protection summit</td>\n",
       "      <td>2</td>\n",
       "    </tr>\n",
       "    <tr>\n",
       "      <th>3</th>\n",
       "      <td>air nz staff in aust strike for pay rise</td>\n",
       "      <td>3</td>\n",
       "    </tr>\n",
       "    <tr>\n",
       "      <th>4</th>\n",
       "      <td>air nz strike to affect australian travellers</td>\n",
       "      <td>4</td>\n",
       "    </tr>\n",
       "  </tbody>\n",
       "</table>\n",
       "</div>"
      ],
      "text/plain": [
       "                                       headline_text  index\n",
       "0  aba decides against community broadcasting lic...      0\n",
       "1     act fire witnesses must be aware of defamation      1\n",
       "2     a g calls for infrastructure protection summit      2\n",
       "3           air nz staff in aust strike for pay rise      3\n",
       "4      air nz strike to affect australian travellers      4"
      ]
     },
     "execution_count": 3,
     "metadata": {},
     "output_type": "execute_result"
    }
   ],
   "source": [
    "documents[:5]"
   ]
  },
  {
   "cell_type": "markdown",
   "metadata": {},
   "source": [
    "## Step 2: Data Preprocessing ##\n",
    "\n",
    "We will perform the following steps:\n",
    "\n",
    "* **Tokenization**: Split the text into sentences and the sentences into words. Lowercase the words and remove punctuation.\n",
    "* Words that have fewer than 3 characters are removed.\n",
    "* All **stopwords** are removed.\n",
    "* Words are **lemmatized** - words in third person are changed to first person and verbs in past and future tenses are changed into present.\n",
    "* Words are **stemmed** - words are reduced to their root form.\n"
   ]
  },
  {
   "cell_type": "code",
   "execution_count": 4,
   "metadata": {
    "ExecuteTime": {
     "end_time": "2020-05-01T23:10:33.337560Z",
     "start_time": "2020-05-01T23:10:30.123893Z"
    }
   },
   "outputs": [],
   "source": [
    "'''\n",
    "Loading Gensim and nltk libraries\n",
    "'''\n",
    "# pip install gensim\n",
    "import gensim\n",
    "from gensim.utils import simple_preprocess\n",
    "from gensim.parsing.preprocessing import STOPWORDS\n",
    "from nltk.stem import WordNetLemmatizer, SnowballStemmer\n",
    "from nltk.stem.porter import *\n",
    "import numpy as np\n",
    "np.random.seed(400)"
   ]
  },
  {
   "cell_type": "code",
   "execution_count": 5,
   "metadata": {
    "ExecuteTime": {
     "end_time": "2020-05-01T23:10:41.447619Z",
     "start_time": "2020-05-01T23:10:41.242358Z"
    }
   },
   "outputs": [
    {
     "name": "stderr",
     "output_type": "stream",
     "text": [
      "[nltk_data] Downloading package wordnet to\n",
      "[nltk_data]     /Users/Elizabeth/nltk_data...\n",
      "[nltk_data]   Package wordnet is already up-to-date!\n"
     ]
    },
    {
     "data": {
      "text/plain": [
       "True"
      ]
     },
     "execution_count": 5,
     "metadata": {},
     "output_type": "execute_result"
    }
   ],
   "source": [
    "import nltk\n",
    "nltk.download('wordnet')"
   ]
  },
  {
   "cell_type": "markdown",
   "metadata": {},
   "source": [
    "### Lemmatizer Example\n",
    "Before preprocessing our dataset, let's first look at an lemmatizing example. What would be the output if we lemmatized the word 'went':"
   ]
  },
  {
   "cell_type": "code",
   "execution_count": 6,
   "metadata": {
    "ExecuteTime": {
     "end_time": "2020-05-01T23:11:29.571592Z",
     "start_time": "2020-05-01T23:11:28.137017Z"
    }
   },
   "outputs": [
    {
     "name": "stdout",
     "output_type": "stream",
     "text": [
      "go\n"
     ]
    }
   ],
   "source": [
    "print(WordNetLemmatizer().lemmatize('went', pos = 'v')) # past tense to present tense"
   ]
  },
  {
   "cell_type": "markdown",
   "metadata": {},
   "source": [
    "### Stemmer Example\n",
    "Let's also look at a stemming example. Let's throw a number of words at the stemmer and see how it deals with each one:"
   ]
  },
  {
   "cell_type": "code",
   "execution_count": 7,
   "metadata": {
    "ExecuteTime": {
     "end_time": "2020-05-01T23:11:36.779534Z",
     "start_time": "2020-05-01T23:11:36.769033Z"
    }
   },
   "outputs": [
    {
     "data": {
      "text/html": [
       "<div>\n",
       "<style scoped>\n",
       "    .dataframe tbody tr th:only-of-type {\n",
       "        vertical-align: middle;\n",
       "    }\n",
       "\n",
       "    .dataframe tbody tr th {\n",
       "        vertical-align: top;\n",
       "    }\n",
       "\n",
       "    .dataframe thead th {\n",
       "        text-align: right;\n",
       "    }\n",
       "</style>\n",
       "<table border=\"1\" class=\"dataframe\">\n",
       "  <thead>\n",
       "    <tr style=\"text-align: right;\">\n",
       "      <th></th>\n",
       "      <th>original word</th>\n",
       "      <th>stemmed</th>\n",
       "    </tr>\n",
       "  </thead>\n",
       "  <tbody>\n",
       "    <tr>\n",
       "      <th>0</th>\n",
       "      <td>caresses</td>\n",
       "      <td>caress</td>\n",
       "    </tr>\n",
       "    <tr>\n",
       "      <th>1</th>\n",
       "      <td>flies</td>\n",
       "      <td>fli</td>\n",
       "    </tr>\n",
       "    <tr>\n",
       "      <th>2</th>\n",
       "      <td>dies</td>\n",
       "      <td>die</td>\n",
       "    </tr>\n",
       "    <tr>\n",
       "      <th>3</th>\n",
       "      <td>mules</td>\n",
       "      <td>mule</td>\n",
       "    </tr>\n",
       "    <tr>\n",
       "      <th>4</th>\n",
       "      <td>denied</td>\n",
       "      <td>deni</td>\n",
       "    </tr>\n",
       "    <tr>\n",
       "      <th>5</th>\n",
       "      <td>died</td>\n",
       "      <td>die</td>\n",
       "    </tr>\n",
       "    <tr>\n",
       "      <th>6</th>\n",
       "      <td>agreed</td>\n",
       "      <td>agre</td>\n",
       "    </tr>\n",
       "    <tr>\n",
       "      <th>7</th>\n",
       "      <td>owned</td>\n",
       "      <td>own</td>\n",
       "    </tr>\n",
       "    <tr>\n",
       "      <th>8</th>\n",
       "      <td>humbled</td>\n",
       "      <td>humbl</td>\n",
       "    </tr>\n",
       "    <tr>\n",
       "      <th>9</th>\n",
       "      <td>sized</td>\n",
       "      <td>size</td>\n",
       "    </tr>\n",
       "    <tr>\n",
       "      <th>10</th>\n",
       "      <td>meeting</td>\n",
       "      <td>meet</td>\n",
       "    </tr>\n",
       "    <tr>\n",
       "      <th>11</th>\n",
       "      <td>stating</td>\n",
       "      <td>state</td>\n",
       "    </tr>\n",
       "    <tr>\n",
       "      <th>12</th>\n",
       "      <td>siezing</td>\n",
       "      <td>siez</td>\n",
       "    </tr>\n",
       "    <tr>\n",
       "      <th>13</th>\n",
       "      <td>itemization</td>\n",
       "      <td>item</td>\n",
       "    </tr>\n",
       "    <tr>\n",
       "      <th>14</th>\n",
       "      <td>sensational</td>\n",
       "      <td>sensat</td>\n",
       "    </tr>\n",
       "    <tr>\n",
       "      <th>15</th>\n",
       "      <td>traditional</td>\n",
       "      <td>tradit</td>\n",
       "    </tr>\n",
       "    <tr>\n",
       "      <th>16</th>\n",
       "      <td>reference</td>\n",
       "      <td>refer</td>\n",
       "    </tr>\n",
       "    <tr>\n",
       "      <th>17</th>\n",
       "      <td>colonizer</td>\n",
       "      <td>colon</td>\n",
       "    </tr>\n",
       "    <tr>\n",
       "      <th>18</th>\n",
       "      <td>plotted</td>\n",
       "      <td>plot</td>\n",
       "    </tr>\n",
       "  </tbody>\n",
       "</table>\n",
       "</div>"
      ],
      "text/plain": [
       "   original word stemmed\n",
       "0       caresses  caress\n",
       "1          flies     fli\n",
       "2           dies     die\n",
       "3          mules    mule\n",
       "4         denied    deni\n",
       "5           died     die\n",
       "6         agreed    agre\n",
       "7          owned     own\n",
       "8        humbled   humbl\n",
       "9          sized    size\n",
       "10       meeting    meet\n",
       "11       stating   state\n",
       "12       siezing    siez\n",
       "13   itemization    item\n",
       "14   sensational  sensat\n",
       "15   traditional  tradit\n",
       "16     reference   refer\n",
       "17     colonizer   colon\n",
       "18       plotted    plot"
      ]
     },
     "execution_count": 7,
     "metadata": {},
     "output_type": "execute_result"
    }
   ],
   "source": [
    "stemmer = SnowballStemmer(\"english\")\n",
    "original_words = ['caresses', 'flies', 'dies', 'mules', 'denied','died', 'agreed', 'owned', \n",
    "           'humbled', 'sized','meeting', 'stating', 'siezing', 'itemization','sensational', \n",
    "           'traditional', 'reference', 'colonizer','plotted']\n",
    "singles = [stemmer.stem(plural) for plural in original_words]\n",
    "\n",
    "pd.DataFrame(data={'original word':original_words, 'stemmed':singles })"
   ]
  },
  {
   "cell_type": "code",
   "execution_count": 9,
   "metadata": {
    "ExecuteTime": {
     "end_time": "2020-05-01T23:21:39.297748Z",
     "start_time": "2020-05-01T23:21:39.293048Z"
    }
   },
   "outputs": [],
   "source": [
    "'''\n",
    "Write a function to perform the pre processing steps on the entire dataset\n",
    "'''\n",
    "def lemmatize_stemming(text):\n",
    "    return stemmer.stem(WordNetLemmatizer().lemmatize(text, pos='v'))\n",
    "\n",
    "# Tokenize and lemmatize\n",
    "def preprocess(text):\n",
    "    result=[]\n",
    "    for token in gensim.utils.simple_preprocess(text) :\n",
    "        if token not in gensim.parsing.preprocessing.STOPWORDS and len(token) > 3:\n",
    "            # TODO: Apply lemmatize_stemming() on the token, then add to the results list\n",
    "            result.append(lemmatize_stemming(token))\n",
    "            \n",
    "    return result\n",
    "\n"
   ]
  },
  {
   "cell_type": "code",
   "execution_count": 10,
   "metadata": {
    "ExecuteTime": {
     "end_time": "2020-05-01T23:21:45.956369Z",
     "start_time": "2020-05-01T23:21:45.949008Z"
    }
   },
   "outputs": [
    {
     "name": "stdout",
     "output_type": "stream",
     "text": [
      "Original document: \n",
      "['rain', 'helps', 'dampen', 'bushfires']\n",
      "\n",
      "\n",
      "Tokenized and lemmatized document: \n",
      "['rain', 'help', 'dampen', 'bushfir']\n"
     ]
    }
   ],
   "source": [
    "'''\n",
    "Preview a document after preprocessing\n",
    "'''\n",
    "document_num = 4310\n",
    "doc_sample = documents[documents['index'] == document_num].values[0][0]\n",
    "\n",
    "print(\"Original document: \")\n",
    "words = []\n",
    "for word in doc_sample.split(' '):\n",
    "    words.append(word)\n",
    "print(words)\n",
    "print(\"\\n\\nTokenized and lemmatized document: \")\n",
    "print(preprocess(doc_sample))"
   ]
  },
  {
   "cell_type": "code",
   "execution_count": 11,
   "metadata": {
    "ExecuteTime": {
     "end_time": "2020-05-03T16:55:10.563350Z",
     "start_time": "2020-05-03T16:55:10.429170Z"
    },
    "scrolled": true
   },
   "outputs": [
    {
     "data": {
      "text/html": [
       "<div>\n",
       "<style scoped>\n",
       "    .dataframe tbody tr th:only-of-type {\n",
       "        vertical-align: middle;\n",
       "    }\n",
       "\n",
       "    .dataframe tbody tr th {\n",
       "        vertical-align: top;\n",
       "    }\n",
       "\n",
       "    .dataframe thead th {\n",
       "        text-align: right;\n",
       "    }\n",
       "</style>\n",
       "<table border=\"1\" class=\"dataframe\">\n",
       "  <thead>\n",
       "    <tr style=\"text-align: right;\">\n",
       "      <th></th>\n",
       "      <th>headline_text</th>\n",
       "      <th>index</th>\n",
       "    </tr>\n",
       "  </thead>\n",
       "  <tbody>\n",
       "    <tr>\n",
       "      <th>0</th>\n",
       "      <td>aba decides against community broadcasting lic...</td>\n",
       "      <td>0</td>\n",
       "    </tr>\n",
       "    <tr>\n",
       "      <th>1</th>\n",
       "      <td>act fire witnesses must be aware of defamation</td>\n",
       "      <td>1</td>\n",
       "    </tr>\n",
       "    <tr>\n",
       "      <th>2</th>\n",
       "      <td>a g calls for infrastructure protection summit</td>\n",
       "      <td>2</td>\n",
       "    </tr>\n",
       "    <tr>\n",
       "      <th>3</th>\n",
       "      <td>air nz staff in aust strike for pay rise</td>\n",
       "      <td>3</td>\n",
       "    </tr>\n",
       "    <tr>\n",
       "      <th>4</th>\n",
       "      <td>air nz strike to affect australian travellers</td>\n",
       "      <td>4</td>\n",
       "    </tr>\n",
       "    <tr>\n",
       "      <th>...</th>\n",
       "      <td>...</td>\n",
       "      <td>...</td>\n",
       "    </tr>\n",
       "    <tr>\n",
       "      <th>299995</th>\n",
       "      <td>broughton hall audit reveals serious breaches</td>\n",
       "      <td>299995</td>\n",
       "    </tr>\n",
       "    <tr>\n",
       "      <th>299996</th>\n",
       "      <td>broughton hall fails key standards</td>\n",
       "      <td>299996</td>\n",
       "    </tr>\n",
       "    <tr>\n",
       "      <th>299997</th>\n",
       "      <td>broughton hall safe for residents govt says</td>\n",
       "      <td>299997</td>\n",
       "    </tr>\n",
       "    <tr>\n",
       "      <th>299998</th>\n",
       "      <td>burn off at conservation park aims to prevent</td>\n",
       "      <td>299998</td>\n",
       "    </tr>\n",
       "    <tr>\n",
       "      <th>299999</th>\n",
       "      <td>burns suspended for two games</td>\n",
       "      <td>299999</td>\n",
       "    </tr>\n",
       "  </tbody>\n",
       "</table>\n",
       "<p>300000 rows × 2 columns</p>\n",
       "</div>"
      ],
      "text/plain": [
       "                                            headline_text   index\n",
       "0       aba decides against community broadcasting lic...       0\n",
       "1          act fire witnesses must be aware of defamation       1\n",
       "2          a g calls for infrastructure protection summit       2\n",
       "3                air nz staff in aust strike for pay rise       3\n",
       "4           air nz strike to affect australian travellers       4\n",
       "...                                                   ...     ...\n",
       "299995      broughton hall audit reveals serious breaches  299995\n",
       "299996                 broughton hall fails key standards  299996\n",
       "299997        broughton hall safe for residents govt says  299997\n",
       "299998      burn off at conservation park aims to prevent  299998\n",
       "299999                      burns suspended for two games  299999\n",
       "\n",
       "[300000 rows x 2 columns]"
      ]
     },
     "execution_count": 11,
     "metadata": {},
     "output_type": "execute_result"
    }
   ],
   "source": [
    "documents"
   ]
  },
  {
   "cell_type": "markdown",
   "metadata": {},
   "source": [
    "Let's now preprocess all the news headlines we have. To do that, let's use the [map](https://pandas.pydata.org/pandas-docs/stable/generated/pandas.Series.map.html) function from pandas to apply `preprocess()` to the `headline_text` column\n",
    "\n",
    "**Note**: This may take a few minutes (it take 6 minutes on my laptop)"
   ]
  },
  {
   "cell_type": "code",
   "execution_count": 12,
   "metadata": {
    "ExecuteTime": {
     "end_time": "2020-05-03T16:56:36.407219Z",
     "start_time": "2020-05-03T16:56:02.377233Z"
    }
   },
   "outputs": [],
   "source": [
    "# TODO: preprocess all the headlines, saving the list of results as 'processed_docs'\n",
    "processed_docs = documents['headline_text'].map(preprocess)"
   ]
  },
  {
   "cell_type": "code",
   "execution_count": 13,
   "metadata": {
    "ExecuteTime": {
     "end_time": "2020-05-03T16:58:08.225811Z",
     "start_time": "2020-05-03T16:58:08.215820Z"
    }
   },
   "outputs": [
    {
     "data": {
      "text/plain": [
       "0            [decid, communiti, broadcast, licenc]\n",
       "1                               [wit, awar, defam]\n",
       "2           [call, infrastructur, protect, summit]\n",
       "3                      [staff, aust, strike, rise]\n",
       "4             [strike, affect, australian, travel]\n",
       "5               [ambiti, olsson, win, tripl, jump]\n",
       "6           [antic, delight, record, break, barca]\n",
       "7    [aussi, qualifi, stosur, wast, memphi, match]\n",
       "8            [aust, address, secur, council, iraq]\n",
       "9                         [australia, lock, timet]\n",
       "Name: headline_text, dtype: object"
      ]
     },
     "execution_count": 13,
     "metadata": {},
     "output_type": "execute_result"
    }
   ],
   "source": [
    "'''\n",
    "Preview 'processed_docs'\n",
    "'''\n",
    "processed_docs[:10]"
   ]
  },
  {
   "cell_type": "markdown",
   "metadata": {},
   "source": [
    "## Step 3.1: Bag of words on the dataset\n",
    "\n",
    "Now let's create a dictionary from 'processed_docs' containing the number of times a word appears in the training set. To do that, let's pass `processed_docs` to [`gensim.corpora.Dictionary()`](https://radimrehurek.com/gensim/corpora/dictionary.html) and call it '`dictionary`'."
   ]
  },
  {
   "cell_type": "code",
   "execution_count": 14,
   "metadata": {
    "ExecuteTime": {
     "end_time": "2020-05-03T16:58:37.593549Z",
     "start_time": "2020-05-03T16:58:34.092512Z"
    }
   },
   "outputs": [],
   "source": [
    "'''\n",
    "Create a dictionary from 'processed_docs' containing the number of times a word appears \n",
    "in the training set using gensim.corpora.Dictionary and call it 'dictionary'\n",
    "'''\n",
    "dictionary = gensim.corpora.Dictionary(processed_docs)"
   ]
  },
  {
   "cell_type": "code",
   "execution_count": 15,
   "metadata": {
    "ExecuteTime": {
     "end_time": "2020-05-03T16:58:39.980015Z",
     "start_time": "2020-05-03T16:58:39.966915Z"
    }
   },
   "outputs": [
    {
     "name": "stdout",
     "output_type": "stream",
     "text": [
      "0 broadcast\n",
      "1 communiti\n",
      "2 decid\n",
      "3 licenc\n",
      "4 awar\n",
      "5 defam\n",
      "6 wit\n",
      "7 call\n",
      "8 infrastructur\n",
      "9 protect\n",
      "10 summit\n"
     ]
    }
   ],
   "source": [
    "'''\n",
    "Checking dictionary created\n",
    "'''\n",
    "count = 0\n",
    "for k, v in dictionary.iteritems():\n",
    "    print(k, v)\n",
    "    count += 1\n",
    "    if count > 10:\n",
    "        break"
   ]
  },
  {
   "cell_type": "markdown",
   "metadata": {},
   "source": [
    "** Gensim filter_extremes **\n",
    "\n",
    "[`filter_extremes(no_below=5, no_above=0.5, keep_n=100000)`](https://radimrehurek.com/gensim/corpora/dictionary.html#gensim.corpora.dictionary.Dictionary.filter_extremes)\n",
    "\n",
    "Filter out tokens that appear in\n",
    "\n",
    "* less than no_below documents (absolute number) or\n",
    "* more than no_above documents (fraction of total corpus size, not absolute number).\n",
    "* after (1) and (2), keep only the first keep_n most frequent tokens (or keep all if None)."
   ]
  },
  {
   "cell_type": "code",
   "execution_count": 24,
   "metadata": {
    "ExecuteTime": {
     "end_time": "2020-05-04T16:55:43.587315Z",
     "start_time": "2020-05-04T16:55:43.575609Z"
    }
   },
   "outputs": [],
   "source": [
    "'''\n",
    "OPTIONAL STEP\n",
    "Remove very rare and very common words:\n",
    "\n",
    "- words appearing less than 15 times\n",
    "- words appearing in more than 10% of all documents\n",
    "'''\n",
    "# TODO: apply dictionary.filter_extremes() with the parameters mentioned above\n",
    "dictionary.filter_extremes(no_below = 15, no_above = .1, keep_n = 100000)"
   ]
  },
  {
   "cell_type": "markdown",
   "metadata": {},
   "source": [
    "** Gensim doc2bow **\n",
    "\n",
    "[`doc2bow(document)`](https://radimrehurek.com/gensim/corpora/dictionary.html#gensim.corpora.dictionary.Dictionary.doc2bow)\n",
    "\n",
    "* Convert document (a list of words) into the bag-of-words format = list of (token_id, token_count) 2-tuples. Each word is assumed to be a tokenized and normalized string (either unicode or utf8-encoded). No further preprocessing is done on the words in document; apply tokenization, stemming etc. before calling this method."
   ]
  },
  {
   "cell_type": "code",
   "execution_count": 25,
   "metadata": {
    "ExecuteTime": {
     "end_time": "2020-05-04T16:59:51.890504Z",
     "start_time": "2020-05-04T16:59:50.090122Z"
    }
   },
   "outputs": [],
   "source": [
    "'''\n",
    "Create the Bag-of-words model for each document i.e for each document we create a dictionary reporting how many\n",
    "words and how many times those words appear. Save this to 'bow_corpus'\n",
    "'''\n",
    "# TODO\n",
    "bow_corpus = [dictionary.doc2bow(doc) for doc in processed_docs]"
   ]
  },
  {
   "cell_type": "code",
   "execution_count": 26,
   "metadata": {
    "ExecuteTime": {
     "end_time": "2020-05-04T16:59:54.262071Z",
     "start_time": "2020-05-04T16:59:54.251886Z"
    }
   },
   "outputs": [
    {
     "data": {
      "text/plain": [
       "[(71, 1), (107, 1), (462, 1), (3530, 1)]"
      ]
     },
     "execution_count": 26,
     "metadata": {},
     "output_type": "execute_result"
    }
   ],
   "source": [
    "'''\n",
    "Checking Bag of Words corpus for our sample document --> (token_id, token_count)\n",
    "'''\n",
    "bow_corpus[document_num]"
   ]
  },
  {
   "cell_type": "code",
   "execution_count": 27,
   "metadata": {
    "ExecuteTime": {
     "end_time": "2020-05-04T17:00:54.238846Z",
     "start_time": "2020-05-04T17:00:54.226498Z"
    }
   },
   "outputs": [
    {
     "name": "stdout",
     "output_type": "stream",
     "text": [
      "Word 71 (\"bushfir\") appears 1 time.\n",
      "Word 107 (\"help\") appears 1 time.\n",
      "Word 462 (\"rain\") appears 1 time.\n",
      "Word 3530 (\"dampen\") appears 1 time.\n"
     ]
    }
   ],
   "source": [
    "'''\n",
    "Preview BOW for our sample preprocessed document\n",
    "'''\n",
    "# Here document_num is document number 4310 which we have checked in Step 2\n",
    "bow_doc_4310 = bow_corpus[document_num]\n",
    "\n",
    "for i in range(len(bow_doc_4310)):\n",
    "    print(\"Word {} (\\\"{}\\\") appears {} time.\".format(bow_doc_4310[i][0], \n",
    "                                                     dictionary[bow_doc_4310[i][0]], \n",
    "                                                     bow_doc_4310[i][1]))"
   ]
  },
  {
   "cell_type": "markdown",
   "metadata": {},
   "source": [
    "## Step 3.2: TF-IDF on our document set ##\n",
    "\n",
    "While performing TF-IDF on the corpus is not necessary for LDA implemention using the gensim model, it is recemmended. TF-IDF expects a bag-of-words (integer values) training corpus during initialization. During transformation, it will take a vector and return another vector of the same dimensionality.\n",
    "\n",
    "*Please note: The author of Gensim dictates the standard procedure for LDA to be using the Bag of Words model.*"
   ]
  },
  {
   "cell_type": "markdown",
   "metadata": {},
   "source": [
    "** TF-IDF stands for \"Term Frequency, Inverse Document Frequency\".**\n",
    "\n",
    "* It is a way to score the importance of words (or \"terms\") in a document based on how frequently they appear across multiple documents.\n",
    "* If a word appears frequently in a document, it's important. Give the word a high score. But if a word appears in many documents, it's not a unique identifier. Give the word a low score.\n",
    "* Therefore, common words like \"the\" and \"for\", which appear in many documents, will be scaled down. Words that appear frequently in a single document will be scaled up.\n",
    "\n",
    "In other words:\n",
    "\n",
    "* TF(w) = `(Number of times term w appears in a document) / (Total number of terms in the document)`.\n",
    "* IDF(w) = `log_e(Total number of documents / Number of documents with term w in it)`.\n",
    "\n",
    "** For example **\n",
    "\n",
    "* Consider a document containing `100` words wherein the word 'tiger' appears 3 times. \n",
    "* The term frequency (i.e., tf) for 'tiger' is then: \n",
    "    - `TF = (3 / 100) = 0.03`. \n",
    "\n",
    "* Now, assume we have `10 million` documents and the word 'tiger' appears in `1000` of these. Then, the inverse document frequency (i.e., idf) is calculated as:\n",
    "    - `IDF = log(10,000,000 / 1,000) = 4`. \n",
    "\n",
    "* Thus, the Tf-idf weight is the product of these quantities: \n",
    "    - `TF-IDF = 0.03 * 4 = 0.12`."
   ]
  },
  {
   "cell_type": "code",
   "execution_count": 28,
   "metadata": {
    "ExecuteTime": {
     "end_time": "2020-05-04T17:02:09.842327Z",
     "start_time": "2020-05-04T17:02:09.538922Z"
    }
   },
   "outputs": [],
   "source": [
    "'''\n",
    "Create tf-idf model object using models.TfidfModel on 'bow_corpus' and save it to 'tfidf'\n",
    "'''\n",
    "from gensim import corpora, models\n",
    "\n",
    "# TODO\n",
    "tfidf = models.TfidfModel(bow_corpus)"
   ]
  },
  {
   "cell_type": "code",
   "execution_count": 33,
   "metadata": {
    "ExecuteTime": {
     "end_time": "2020-05-04T17:05:08.600047Z",
     "start_time": "2020-05-04T17:05:08.596122Z"
    }
   },
   "outputs": [
    {
     "data": {
      "text/plain": [
       "<gensim.models.tfidfmodel.TfidfModel at 0x150e3d750>"
      ]
     },
     "execution_count": 33,
     "metadata": {},
     "output_type": "execute_result"
    }
   ],
   "source": [
    "tfidf"
   ]
  },
  {
   "cell_type": "code",
   "execution_count": 30,
   "metadata": {
    "ExecuteTime": {
     "end_time": "2020-05-04T17:04:51.211784Z",
     "start_time": "2020-05-04T17:04:51.209041Z"
    }
   },
   "outputs": [],
   "source": [
    "'''\n",
    "Apply transformation to the entire corpus and call it 'corpus_tfidf'\n",
    "'''\n",
    "# TODO\n",
    "corpus_tfidf = tfidf[bow_corpus]"
   ]
  },
  {
   "cell_type": "code",
   "execution_count": 32,
   "metadata": {
    "ExecuteTime": {
     "end_time": "2020-05-04T17:05:02.002560Z",
     "start_time": "2020-05-04T17:05:01.998819Z"
    }
   },
   "outputs": [
    {
     "data": {
      "text/plain": [
       "<gensim.interfaces.TransformedCorpus at 0x150ed8f90>"
      ]
     },
     "execution_count": 32,
     "metadata": {},
     "output_type": "execute_result"
    }
   ],
   "source": [
    "corpus_tfidf"
   ]
  },
  {
   "cell_type": "code",
   "execution_count": 31,
   "metadata": {
    "ExecuteTime": {
     "end_time": "2020-05-04T17:04:53.032673Z",
     "start_time": "2020-05-04T17:04:53.020010Z"
    }
   },
   "outputs": [
    {
     "name": "stdout",
     "output_type": "stream",
     "text": [
      "[(0, 0.5959813347777092),\n",
      " (1, 0.39204529549491984),\n",
      " (2, 0.48531419274988147),\n",
      " (3, 0.5055461098578569)]\n"
     ]
    }
   ],
   "source": [
    "'''\n",
    "Preview TF-IDF scores for our first document --> --> (token_id, tfidf score)\n",
    "'''\n",
    "from pprint import pprint\n",
    "for doc in corpus_tfidf:\n",
    "    pprint(doc)\n",
    "    break"
   ]
  },
  {
   "cell_type": "markdown",
   "metadata": {},
   "source": [
    "## Step 4.1: Running LDA using Bag of Words ##\n",
    "\n",
    "We are going for 10 topics in the document corpus.\n",
    "\n",
    "** We will be running LDA using all CPU cores to parallelize and speed up model training.**\n",
    "\n",
    "Some of the parameters we will be tweaking are:\n",
    "\n",
    "* **num_topics** is the number of requested latent topics to be extracted from the training corpus.\n",
    "* **id2word** is a mapping from word ids (integers) to words (strings). It is used to determine the vocabulary size, as well as for debugging and topic printing.\n",
    "* **workers** is the number of extra processes to use for parallelization. Uses all available cores by default.\n",
    "* **alpha** and **eta** are hyperparameters that affect sparsity of the document-topic (theta) and topic-word (lambda) distributions. We will let these be the default values for now(default value is `1/num_topics`)\n",
    "    - Alpha is the per document topic distribution.\n",
    "        * High alpha: Every document has a mixture of all topics(documents appear similar to each other).\n",
    "        * Low alpha: Every document has a mixture of very few topics\n",
    "\n",
    "    - Eta is the per topic word distribution.\n",
    "        * High eta: Each topic has a mixture of most words(topics appear similar to each other).\n",
    "        * Low eta: Each topic has a mixture of few words.\n",
    "\n",
    "* ** passes ** is the number of training passes through the corpus. For  example, if the training corpus has 50,000 documents, chunksize is  10,000, passes is 2, then online training is done in 10 updates: \n",
    "    * `#1 documents 0-9,999 `\n",
    "    * `#2 documents 10,000-19,999 `\n",
    "    * `#3 documents 20,000-29,999 `\n",
    "    * `#4 documents 30,000-39,999 `\n",
    "    * `#5 documents 40,000-49,999 `\n",
    "    * `#6 documents 0-9,999 `\n",
    "    * `#7 documents 10,000-19,999 `\n",
    "    * `#8 documents 20,000-29,999 `\n",
    "    * `#9 documents 30,000-39,999 `\n",
    "    * `#10 documents 40,000-49,999` "
   ]
  },
  {
   "cell_type": "code",
   "execution_count": 36,
   "metadata": {
    "ExecuteTime": {
     "end_time": "2020-05-04T18:13:01.049498Z",
     "start_time": "2020-05-04T17:56:56.766532Z"
    }
   },
   "outputs": [],
   "source": [
    "# LDA mono-core -- fallback code in case LdaMulticore throws an error on your machine\n",
    "# lda_model = gensim.models.LdaModel(bow_corpus, \n",
    "#                                    num_topics = 10, \n",
    "#                                    id2word = dictionary,                                    \n",
    "#                                    passes = 50)\n",
    "\n",
    "# LDA multicore \n",
    "'''\n",
    "Train your lda model using gensim.models.LdaMulticore and save it to 'lda_model'\n",
    "'''\n",
    "# TODO\n",
    "lda_model = gensim.models.LdaMulticore(bow_corpus, \n",
    "                                  num_topics = 10, \n",
    "                                  id2word=dictionary,\n",
    "                                  passes = 50)"
   ]
  },
  {
   "cell_type": "code",
   "execution_count": 37,
   "metadata": {
    "ExecuteTime": {
     "end_time": "2020-05-04T21:20:35.855734Z",
     "start_time": "2020-05-04T21:20:35.781340Z"
    }
   },
   "outputs": [
    {
     "name": "stdout",
     "output_type": "stream",
     "text": [
      "Topic: 0.084*\"polic\" + 0.046*\"urg\" + 0.038*\"govt\" + 0.021*\"miss\" + 0.020*\"investig\" + 0.018*\"probe\" + 0.016*\"meet\" + 0.015*\"public\" + 0.015*\"continu\" + 0.015*\"defend\" \n",
      "Words: 0\n",
      "\n",
      "\n",
      "Topic: 0.018*\"talk\" + 0.017*\"elect\" + 0.016*\"australia\" + 0.016*\"test\" + 0.013*\"return\" + 0.012*\"rain\" + 0.011*\"nuclear\" + 0.009*\"vote\" + 0.009*\"wont\" + 0.009*\"confid\" \n",
      "Words: 1\n",
      "\n",
      "\n",
      "Topic: 0.040*\"kill\" + 0.031*\"claim\" + 0.030*\"report\" + 0.029*\"iraq\" + 0.021*\"attack\" + 0.018*\"forc\" + 0.016*\"deni\" + 0.016*\"bomb\" + 0.013*\"reject\" + 0.012*\"troop\" \n",
      "Words: 2\n",
      "\n",
      "\n",
      "Topic: 0.023*\"warn\" + 0.021*\"rise\" + 0.019*\"seek\" + 0.018*\"push\" + 0.018*\"road\" + 0.017*\"farmer\" + 0.017*\"price\" + 0.014*\"drought\" + 0.013*\"region\" + 0.013*\"busi\" \n",
      "Words: 3\n",
      "\n",
      "\n",
      "Topic: 0.040*\"charg\" + 0.035*\"court\" + 0.034*\"face\" + 0.022*\"jail\" + 0.020*\"murder\" + 0.014*\"case\" + 0.014*\"dead\" + 0.013*\"death\" + 0.013*\"year\" + 0.013*\"appeal\" \n",
      "Words: 4\n",
      "\n",
      "\n",
      "Topic: 0.020*\"home\" + 0.019*\"australian\" + 0.018*\"record\" + 0.017*\"rule\" + 0.015*\"market\" + 0.015*\"begin\" + 0.014*\"world\" + 0.012*\"high\" + 0.011*\"final\" + 0.010*\"fatal\" \n",
      "Words: 5\n",
      "\n",
      "\n",
      "Topic: 0.052*\"say\" + 0.023*\"accus\" + 0.023*\"help\" + 0.020*\"fight\" + 0.018*\"drug\" + 0.015*\"leav\" + 0.014*\"sale\" + 0.013*\"hospit\" + 0.013*\"stand\" + 0.012*\"govt\" \n",
      "Words: 6\n",
      "\n",
      "\n",
      "Topic: 0.049*\"plan\" + 0.039*\"council\" + 0.027*\"water\" + 0.026*\"fund\" + 0.021*\"govt\" + 0.017*\"health\" + 0.016*\"group\" + 0.016*\"servic\" + 0.015*\"boost\" + 0.014*\"concern\" \n",
      "Words: 7\n",
      "\n",
      "\n",
      "Topic: 0.024*\"call\" + 0.021*\"worker\" + 0.020*\"school\" + 0.018*\"union\" + 0.018*\"protest\" + 0.013*\"gold\" + 0.013*\"studi\" + 0.011*\"coast\" + 0.011*\"student\" + 0.010*\"farm\" \n",
      "Words: 8\n",
      "\n",
      "\n",
      "Topic: 0.019*\"open\" + 0.019*\"sydney\" + 0.018*\"lead\" + 0.015*\"die\" + 0.015*\"crash\" + 0.013*\"break\" + 0.013*\"look\" + 0.012*\"shoot\" + 0.012*\"take\" + 0.012*\"time\" \n",
      "Words: 9\n",
      "\n",
      "\n"
     ]
    }
   ],
   "source": [
    "'''\n",
    "For each topic, we will explore the words occuring in that topic and its relative weight\n",
    "'''\n",
    "for idx, topic in lda_model.print_topics(-1):\n",
    "    print(\"Topic: {} \\nWords: {}\".format(topic, idx ))\n",
    "    print(\"\\n\")"
   ]
  },
  {
   "cell_type": "markdown",
   "metadata": {},
   "source": [
    "### Classification of the topics ###\n",
    "\n",
    "Using the words in each topic and their corresponding weights, what categories were you able to infer?\n",
    "\n",
    "* 0: Gov investigation\n",
    "* 1: Elections\n",
    "* 2: Iraq war\n",
    "* 3: Drought's effect on farming\n",
    "* 4: Murder trial\n",
    "* 5: Austrailia\n",
    "* 6: Drug overdosing\n",
    "* 7: Gov working on health crisis \n",
    "* 8: Protests\n",
    "* 9: Tennis"
   ]
  },
  {
   "cell_type": "markdown",
   "metadata": {},
   "source": [
    "## Step 4.2 Running LDA using TF-IDF ##"
   ]
  },
  {
   "cell_type": "code",
   "execution_count": 40,
   "metadata": {
    "ExecuteTime": {
     "end_time": "2020-05-04T21:32:22.922669Z",
     "start_time": "2020-05-04T21:31:50.530589Z"
    }
   },
   "outputs": [],
   "source": [
    "'''\n",
    "Define lda model using corpus_tfidf, again using gensim.models.LdaMulticore()\n",
    "'''\n",
    "# TODO\n",
    "lda_model_tfidf = gensim.models.LdaMulticore(corpus_tfidf, \n",
    "                                             num_topics = 10,\n",
    "                                            id2word = dictionary,\n",
    "                                            passes = 2, \n",
    "                                            workers = 4)"
   ]
  },
  {
   "cell_type": "code",
   "execution_count": 41,
   "metadata": {
    "ExecuteTime": {
     "end_time": "2020-05-04T21:32:25.766114Z",
     "start_time": "2020-05-04T21:32:25.758954Z"
    }
   },
   "outputs": [
    {
     "name": "stdout",
     "output_type": "stream",
     "text": [
      "Topic: 0 Word: 0.014*\"miss\" + 0.013*\"search\" + 0.012*\"guilti\" + 0.008*\"plead\" + 0.006*\"news\" + 0.006*\"polic\" + 0.005*\"age\" + 0.005*\"declar\" + 0.005*\"inquest\" + 0.005*\"care\"\n",
      "\n",
      "\n",
      "Topic: 1 Word: 0.012*\"water\" + 0.008*\"drought\" + 0.007*\"hick\" + 0.007*\"rain\" + 0.006*\"break\" + 0.006*\"rudd\" + 0.006*\"plan\" + 0.005*\"restrict\" + 0.005*\"govt\" + 0.005*\"urg\"\n",
      "\n",
      "\n",
      "Topic: 2 Word: 0.010*\"kill\" + 0.007*\"soldier\" + 0.007*\"bomb\" + 0.006*\"climat\" + 0.006*\"baghdad\" + 0.006*\"final\" + 0.005*\"attack\" + 0.005*\"clash\" + 0.005*\"compo\" + 0.004*\"suicid\"\n",
      "\n",
      "\n",
      "Topic: 3 Word: 0.015*\"govt\" + 0.013*\"fund\" + 0.010*\"health\" + 0.010*\"council\" + 0.009*\"plan\" + 0.008*\"urg\" + 0.007*\"boost\" + 0.007*\"indigen\" + 0.006*\"announc\" + 0.006*\"servic\"\n",
      "\n",
      "\n",
      "Topic: 4 Word: 0.009*\"iraq\" + 0.009*\"troop\" + 0.007*\"govt\" + 0.007*\"howard\" + 0.006*\"plan\" + 0.006*\"union\" + 0.005*\"chang\" + 0.005*\"violenc\" + 0.005*\"urg\" + 0.005*\"anti\"\n",
      "\n",
      "\n",
      "Topic: 5 Word: 0.018*\"polic\" + 0.017*\"crash\" + 0.016*\"investig\" + 0.014*\"death\" + 0.011*\"road\" + 0.009*\"fatal\" + 0.009*\"kill\" + 0.009*\"probe\" + 0.008*\"accid\" + 0.008*\"toll\"\n",
      "\n",
      "\n",
      "Topic: 6 Word: 0.019*\"charg\" + 0.016*\"polic\" + 0.015*\"court\" + 0.013*\"jail\" + 0.013*\"murder\" + 0.010*\"face\" + 0.010*\"arrest\" + 0.010*\"drug\" + 0.009*\"accus\" + 0.007*\"suspect\"\n",
      "\n",
      "\n",
      "Topic: 7 Word: 0.011*\"coast\" + 0.009*\"gold\" + 0.007*\"die\" + 0.007*\"tourist\" + 0.007*\"west\" + 0.006*\"petrol\" + 0.006*\"beach\" + 0.005*\"crash\" + 0.005*\"river\" + 0.005*\"whale\"\n",
      "\n",
      "\n",
      "Topic: 8 Word: 0.028*\"closer\" + 0.011*\"nuclear\" + 0.008*\"storm\" + 0.008*\"east\" + 0.007*\"iran\" + 0.007*\"cyclon\" + 0.006*\"australia\" + 0.006*\"wind\" + 0.006*\"south\" + 0.005*\"korea\"\n",
      "\n",
      "\n",
      "Topic: 9 Word: 0.010*\"price\" + 0.010*\"market\" + 0.009*\"rise\" + 0.008*\"strike\" + 0.006*\"high\" + 0.006*\"rat\" + 0.006*\"profit\" + 0.005*\"worri\" + 0.005*\"sack\" + 0.005*\"record\"\n",
      "\n",
      "\n"
     ]
    }
   ],
   "source": [
    "'''\n",
    "For each topic, we will explore the words occuring in that topic and its relative weight\n",
    "'''\n",
    "for idx, topic in lda_model_tfidf.print_topics(-1):\n",
    "    print(\"Topic: {} Word: {}\".format(idx, topic))\n",
    "    print(\"\\n\")"
   ]
  },
  {
   "cell_type": "markdown",
   "metadata": {},
   "source": [
    "### Classification of the topics ###\n",
    "\n",
    "As we can see, when using tf-idf, heavier weights are given to words that are not as frequent which results in nouns being factored in. That makes it harder to figure out the categories as nouns can be hard to categorize. This goes to show that the models we apply depend on the type of corpus of text we are dealing with. \n",
    "\n",
    "Using the words in each topic and their corresponding weights, what categories could you find?\n",
    "\n",
    "* 0: Law\n",
    "* 1: Agriculture\n",
    "* 2: War\n",
    "* 3: Healthcare\n",
    "* 4: Iraq War\n",
    "* 5: Police\n",
    "* 6: Court trial\n",
    "* 7: Economy\n",
    "* 8: International relations\n",
    "* 9: Markets"
   ]
  },
  {
   "cell_type": "markdown",
   "metadata": {},
   "source": [
    "## Step 5.1: Performance evaluation by classifying sample document using LDA Bag of Words model##\n",
    "\n",
    "We will check to see where our test document would be classified. "
   ]
  },
  {
   "cell_type": "code",
   "execution_count": 42,
   "metadata": {
    "ExecuteTime": {
     "end_time": "2020-05-04T21:37:50.197791Z",
     "start_time": "2020-05-04T21:37:50.151841Z"
    }
   },
   "outputs": [
    {
     "data": {
      "text/plain": [
       "['rain', 'help', 'dampen', 'bushfir']"
      ]
     },
     "execution_count": 42,
     "metadata": {},
     "output_type": "execute_result"
    }
   ],
   "source": [
    "'''\n",
    "Text of sample document 4310\n",
    "'''\n",
    "processed_docs[4310]"
   ]
  },
  {
   "cell_type": "code",
   "execution_count": 43,
   "metadata": {
    "ExecuteTime": {
     "end_time": "2020-05-04T21:37:54.507388Z",
     "start_time": "2020-05-04T21:37:54.488562Z"
    }
   },
   "outputs": [
    {
     "name": "stdout",
     "output_type": "stream",
     "text": [
      "\n",
      "Score: 0.4201449453830719\t \n",
      "Topic: 0.018*\"talk\" + 0.017*\"elect\" + 0.016*\"australia\" + 0.016*\"test\" + 0.013*\"return\" + 0.012*\"rain\" + 0.011*\"nuclear\" + 0.009*\"vote\" + 0.009*\"wont\" + 0.009*\"confid\"\n",
      "\n",
      "Score: 0.22007323801517487\t \n",
      "Topic: 0.052*\"say\" + 0.023*\"accus\" + 0.023*\"help\" + 0.020*\"fight\" + 0.018*\"drug\" + 0.015*\"leav\" + 0.014*\"sale\" + 0.013*\"hospit\" + 0.013*\"stand\" + 0.012*\"govt\"\n",
      "\n",
      "Score: 0.21972694993019104\t \n",
      "Topic: 0.024*\"call\" + 0.021*\"worker\" + 0.020*\"school\" + 0.018*\"union\" + 0.018*\"protest\" + 0.013*\"gold\" + 0.013*\"studi\" + 0.011*\"coast\" + 0.011*\"student\" + 0.010*\"farm\"\n",
      "\n",
      "Score: 0.020009759813547134\t \n",
      "Topic: 0.023*\"warn\" + 0.021*\"rise\" + 0.019*\"seek\" + 0.018*\"push\" + 0.018*\"road\" + 0.017*\"farmer\" + 0.017*\"price\" + 0.014*\"drought\" + 0.013*\"region\" + 0.013*\"busi\"\n",
      "\n",
      "Score: 0.020007513463497162\t \n",
      "Topic: 0.084*\"polic\" + 0.046*\"urg\" + 0.038*\"govt\" + 0.021*\"miss\" + 0.020*\"investig\" + 0.018*\"probe\" + 0.016*\"meet\" + 0.015*\"public\" + 0.015*\"continu\" + 0.015*\"defend\"\n",
      "\n",
      "Score: 0.020007513463497162\t \n",
      "Topic: 0.040*\"kill\" + 0.031*\"claim\" + 0.030*\"report\" + 0.029*\"iraq\" + 0.021*\"attack\" + 0.018*\"forc\" + 0.016*\"deni\" + 0.016*\"bomb\" + 0.013*\"reject\" + 0.012*\"troop\"\n",
      "\n",
      "Score: 0.020007513463497162\t \n",
      "Topic: 0.040*\"charg\" + 0.035*\"court\" + 0.034*\"face\" + 0.022*\"jail\" + 0.020*\"murder\" + 0.014*\"case\" + 0.014*\"dead\" + 0.013*\"death\" + 0.013*\"year\" + 0.013*\"appeal\"\n",
      "\n",
      "Score: 0.020007513463497162\t \n",
      "Topic: 0.020*\"home\" + 0.019*\"australian\" + 0.018*\"record\" + 0.017*\"rule\" + 0.015*\"market\" + 0.015*\"begin\" + 0.014*\"world\" + 0.012*\"high\" + 0.011*\"final\" + 0.010*\"fatal\"\n",
      "\n",
      "Score: 0.020007513463497162\t \n",
      "Topic: 0.049*\"plan\" + 0.039*\"council\" + 0.027*\"water\" + 0.026*\"fund\" + 0.021*\"govt\" + 0.017*\"health\" + 0.016*\"group\" + 0.016*\"servic\" + 0.015*\"boost\" + 0.014*\"concern\"\n",
      "\n",
      "Score: 0.020007513463497162\t \n",
      "Topic: 0.019*\"open\" + 0.019*\"sydney\" + 0.018*\"lead\" + 0.015*\"die\" + 0.015*\"crash\" + 0.013*\"break\" + 0.013*\"look\" + 0.012*\"shoot\" + 0.012*\"take\" + 0.012*\"time\"\n"
     ]
    }
   ],
   "source": [
    "'''\n",
    "Check which topic our test document belongs to using the LDA Bag of Words model.\n",
    "'''\n",
    "document_num = 4310\n",
    "# Our test document is document number 4310\n",
    "\n",
    "# TODO\n",
    "# Our test document is document number 4310\n",
    "for index, score in sorted(lda_model[bow_corpus[document_num]], key=lambda tup: -1*tup[1]):\n",
    "    print(\"\\nScore: {}\\t \\nTopic: {}\".format(score, lda_model.print_topic(index, 10)))"
   ]
  },
  {
   "cell_type": "markdown",
   "metadata": {},
   "source": [
    "### It has the highest probability (`42%`) to be  part of the topic that we assigned as Politics, which is the accurate classification. ###"
   ]
  },
  {
   "cell_type": "markdown",
   "metadata": {},
   "source": [
    "## Step 5.2: Performance evaluation by classifying sample document using LDA TF-IDF model##"
   ]
  },
  {
   "cell_type": "code",
   "execution_count": 44,
   "metadata": {
    "ExecuteTime": {
     "end_time": "2020-05-04T21:38:39.964154Z",
     "start_time": "2020-05-04T21:38:39.952745Z"
    }
   },
   "outputs": [
    {
     "name": "stdout",
     "output_type": "stream",
     "text": [
      "\n",
      "Score: 0.8199751973152161\t \n",
      "Topic: 0.012*\"water\" + 0.008*\"drought\" + 0.007*\"hick\" + 0.007*\"rain\" + 0.006*\"break\" + 0.006*\"rudd\" + 0.006*\"plan\" + 0.005*\"restrict\" + 0.005*\"govt\" + 0.005*\"urg\"\n",
      "\n",
      "Score: 0.020003514364361763\t \n",
      "Topic: 0.018*\"polic\" + 0.017*\"crash\" + 0.016*\"investig\" + 0.014*\"death\" + 0.011*\"road\" + 0.009*\"fatal\" + 0.009*\"kill\" + 0.009*\"probe\" + 0.008*\"accid\" + 0.008*\"toll\"\n",
      "\n",
      "Score: 0.020003236830234528\t \n",
      "Topic: 0.015*\"govt\" + 0.013*\"fund\" + 0.010*\"health\" + 0.010*\"council\" + 0.009*\"plan\" + 0.008*\"urg\" + 0.007*\"boost\" + 0.007*\"indigen\" + 0.006*\"announc\" + 0.006*\"servic\"\n",
      "\n",
      "Score: 0.020002882927656174\t \n",
      "Topic: 0.014*\"miss\" + 0.013*\"search\" + 0.012*\"guilti\" + 0.008*\"plead\" + 0.006*\"news\" + 0.006*\"polic\" + 0.005*\"age\" + 0.005*\"declar\" + 0.005*\"inquest\" + 0.005*\"care\"\n",
      "\n",
      "Score: 0.02000274509191513\t \n",
      "Topic: 0.028*\"closer\" + 0.011*\"nuclear\" + 0.008*\"storm\" + 0.008*\"east\" + 0.007*\"iran\" + 0.007*\"cyclon\" + 0.006*\"australia\" + 0.006*\"wind\" + 0.006*\"south\" + 0.005*\"korea\"\n",
      "\n",
      "Score: 0.020002741366624832\t \n",
      "Topic: 0.010*\"price\" + 0.010*\"market\" + 0.009*\"rise\" + 0.008*\"strike\" + 0.006*\"high\" + 0.006*\"rat\" + 0.006*\"profit\" + 0.005*\"worri\" + 0.005*\"sack\" + 0.005*\"record\"\n",
      "\n",
      "Score: 0.020002566277980804\t \n",
      "Topic: 0.011*\"coast\" + 0.009*\"gold\" + 0.007*\"die\" + 0.007*\"tourist\" + 0.007*\"west\" + 0.006*\"petrol\" + 0.006*\"beach\" + 0.005*\"crash\" + 0.005*\"river\" + 0.005*\"whale\"\n",
      "\n",
      "Score: 0.020002420991659164\t \n",
      "Topic: 0.019*\"charg\" + 0.016*\"polic\" + 0.015*\"court\" + 0.013*\"jail\" + 0.013*\"murder\" + 0.010*\"face\" + 0.010*\"arrest\" + 0.010*\"drug\" + 0.009*\"accus\" + 0.007*\"suspect\"\n",
      "\n",
      "Score: 0.02000240422785282\t \n",
      "Topic: 0.009*\"iraq\" + 0.009*\"troop\" + 0.007*\"govt\" + 0.007*\"howard\" + 0.006*\"plan\" + 0.006*\"union\" + 0.005*\"chang\" + 0.005*\"violenc\" + 0.005*\"urg\" + 0.005*\"anti\"\n",
      "\n",
      "Score: 0.020002301782369614\t \n",
      "Topic: 0.010*\"kill\" + 0.007*\"soldier\" + 0.007*\"bomb\" + 0.006*\"climat\" + 0.006*\"baghdad\" + 0.006*\"final\" + 0.005*\"attack\" + 0.005*\"clash\" + 0.005*\"compo\" + 0.004*\"suicid\"\n"
     ]
    }
   ],
   "source": [
    "'''\n",
    "Check which topic our test document belongs to using the LDA TF-IDF model.\n",
    "'''\n",
    "# Our test document is document number 4310\n",
    "for index, score in sorted(lda_model_tfidf[bow_corpus[document_num]], key=lambda tup: -1*tup[1]):\n",
    "    print(\"\\nScore: {}\\t \\nTopic: {}\".format(score, lda_model_tfidf.print_topic(index, 10)))"
   ]
  },
  {
   "cell_type": "markdown",
   "metadata": {},
   "source": [
    "### It has the highest probability (`81%`) to be  part of the topic that we assigned as agriculture. ###"
   ]
  },
  {
   "cell_type": "markdown",
   "metadata": {},
   "source": [
    "## Step 6: Testing model on unseen document ##"
   ]
  },
  {
   "cell_type": "code",
   "execution_count": 45,
   "metadata": {
    "ExecuteTime": {
     "end_time": "2020-05-04T21:39:36.009309Z",
     "start_time": "2020-05-04T21:39:35.983247Z"
    }
   },
   "outputs": [
    {
     "name": "stdout",
     "output_type": "stream",
     "text": [
      "Score: 0.22000755369663239\t Topic: 0.019*\"open\" + 0.019*\"sydney\" + 0.018*\"lead\" + 0.015*\"die\" + 0.015*\"crash\"\n",
      "Score: 0.2200074940919876\t Topic: 0.020*\"home\" + 0.019*\"australian\" + 0.018*\"record\" + 0.017*\"rule\" + 0.015*\"market\"\n",
      "Score: 0.22000299394130707\t Topic: 0.018*\"talk\" + 0.017*\"elect\" + 0.016*\"australia\" + 0.016*\"test\" + 0.013*\"return\"\n",
      "Score: 0.21994845569133759\t Topic: 0.024*\"call\" + 0.021*\"worker\" + 0.020*\"school\" + 0.018*\"union\" + 0.018*\"protest\"\n",
      "Score: 0.020005593076348305\t Topic: 0.084*\"polic\" + 0.046*\"urg\" + 0.038*\"govt\" + 0.021*\"miss\" + 0.020*\"investig\"\n",
      "Score: 0.020005593076348305\t Topic: 0.040*\"kill\" + 0.031*\"claim\" + 0.030*\"report\" + 0.029*\"iraq\" + 0.021*\"attack\"\n",
      "Score: 0.020005593076348305\t Topic: 0.023*\"warn\" + 0.021*\"rise\" + 0.019*\"seek\" + 0.018*\"push\" + 0.018*\"road\"\n",
      "Score: 0.020005593076348305\t Topic: 0.040*\"charg\" + 0.035*\"court\" + 0.034*\"face\" + 0.022*\"jail\" + 0.020*\"murder\"\n",
      "Score: 0.020005593076348305\t Topic: 0.052*\"say\" + 0.023*\"accus\" + 0.023*\"help\" + 0.020*\"fight\" + 0.018*\"drug\"\n",
      "Score: 0.020005593076348305\t Topic: 0.049*\"plan\" + 0.039*\"council\" + 0.027*\"water\" + 0.026*\"fund\" + 0.021*\"govt\"\n"
     ]
    }
   ],
   "source": [
    "unseen_document = \"My favorite sports activities are running and swimming.\"\n",
    "\n",
    "# Data preprocessing step for the unseen document\n",
    "bow_vector = dictionary.doc2bow(preprocess(unseen_document))\n",
    "\n",
    "for index, score in sorted(lda_model[bow_vector], key=lambda tup: -1*tup[1]):\n",
    "    print(\"Score: {}\\t Topic: {}\".format(score, lda_model.print_topic(index, 5)))"
   ]
  },
  {
   "cell_type": "markdown",
   "metadata": {},
   "source": [
    "The model correctly classifies the unseen document with '22'% probability to the tennis category. "
   ]
  },
  {
   "cell_type": "code",
   "execution_count": null,
   "metadata": {},
   "outputs": [],
   "source": []
  }
 ],
 "metadata": {
  "kernelspec": {
   "display_name": "Python 3",
   "language": "python",
   "name": "python3"
  },
  "language_info": {
   "codemirror_mode": {
    "name": "ipython",
    "version": 3
   },
   "file_extension": ".py",
   "mimetype": "text/x-python",
   "name": "python",
   "nbconvert_exporter": "python",
   "pygments_lexer": "ipython3",
   "version": "3.7.4"
  }
 },
 "nbformat": 4,
 "nbformat_minor": 1
}
